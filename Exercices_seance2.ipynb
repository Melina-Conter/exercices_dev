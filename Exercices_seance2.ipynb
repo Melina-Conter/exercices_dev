{
 "cells": [
  {
   "cell_type": "code",
   "execution_count": 36,
   "metadata": {},
   "outputs": [],
   "source": [
    "import time\n",
    "\n",
    "def chronometre (fonction):\n",
    "    def wrapper (*args, **kwargs):\n",
    "        debut = time.time()\n",
    "        resultat = fonction(*args, **kwargs)\n",
    "        fin = time.time()\n",
    "        print(f\"La fonction {fonction.__name__} a pris (en secondes) {fin-debut}\")\n",
    "        return resultat\n",
    "    return wrapper\n",
    "\n",
    "@chronometre\n",
    "def grosse_multiplication(multiplicateur):\n",
    "    multiplicande = 1000000000000000*9999\n",
    "    resultat = 0\n",
    "    for i in range(1,multiplicateur):\n",
    "        resultat += (multiplicande * multiplicateur *i)\n",
    "    return  resultat"
   ]
  },
  {
   "cell_type": "code",
   "execution_count": 37,
   "metadata": {},
   "outputs": [
    {
     "name": "stdout",
     "output_type": "stream",
     "text": [
      "La fonction grosse_multiplication a pris (en secondes) 0.07599925994873047\n",
      "7366833379465092126000000000000000\n"
     ]
    }
   ],
   "source": [
    "print(grosse_multiplication(56897*2))"
   ]
  },
  {
   "cell_type": "code",
   "execution_count": null,
   "metadata": {},
   "outputs": [],
   "source": []
  }
 ],
 "metadata": {
  "kernelspec": {
   "display_name": "Python 3",
   "language": "python",
   "name": "python3"
  },
  "language_info": {
   "codemirror_mode": {
    "name": "ipython",
    "version": 3
   },
   "file_extension": ".py",
   "mimetype": "text/x-python",
   "name": "python",
   "nbconvert_exporter": "python",
   "pygments_lexer": "ipython3",
   "version": "3.12.8"
  }
 },
 "nbformat": 4,
 "nbformat_minor": 2
}
